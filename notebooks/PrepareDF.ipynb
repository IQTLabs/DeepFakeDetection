{
 "cells": [
  {
   "cell_type": "code",
   "execution_count": 2,
   "metadata": {},
   "outputs": [],
   "source": [
    "%load_ext autoreload\n",
    "%autoreload 2\n",
    "import os\n",
    "import pandas as pd"
   ]
  },
  {
   "cell_type": "code",
   "execution_count": 3,
   "metadata": {},
   "outputs": [],
   "source": [
    "df = pd.read_csv('../../training_metadata.json')"
   ]
  },
  {
   "cell_type": "code",
   "execution_count": 4,
   "metadata": {},
   "outputs": [
    {
     "name": "stdout",
     "output_type": "stream",
     "text": [
      "Real 19154 vs. Fake 100000\n"
     ]
    }
   ],
   "source": [
    "print('Real {} vs. Fake {}'.format(len(df[df['label'] == 'REAL']), len(df[df['label'] == 'FAKE'])))"
   ]
  },
  {
   "cell_type": "code",
   "execution_count": 5,
   "metadata": {},
   "outputs": [],
   "source": [
    "fakes = df[df['label'] == 'FAKE'].sample(n=10000, random_state=1)\n",
    "real = df[df['label'] == 'REAL'].sample(n=10000, random_state=2)"
   ]
  },
  {
   "cell_type": "code",
   "execution_count": 6,
   "metadata": {},
   "outputs": [],
   "source": [
    "df = pd.concat([real, fakes])"
   ]
  },
  {
   "cell_type": "code",
   "execution_count": 7,
   "metadata": {},
   "outputs": [
    {
     "name": "stdout",
     "output_type": "stream",
     "text": [
      "20000\n"
     ]
    }
   ],
   "source": [
    "df.loc[df['label'] == 'REAL', 'label'] = 1\n",
    "df.loc[df['label'] == 'FAKE', 'label'] = 0\n",
    "print(len(df))"
   ]
  },
  {
   "cell_type": "code",
   "execution_count": 8,
   "metadata": {},
   "outputs": [
    {
     "name": "stdout",
     "output_type": "stream",
     "text": [
      "        Unnamed: 0            File  label               split        original\n",
      "113851      113851  tfnuiwjlxd.mp4      1  dfdc_train_part_48             NaN\n",
      "40750        40750  upezcrcdqz.mp4      1  dfdc_train_part_18             NaN\n",
      "16161        16161  hfkllixxkr.mp4      1   dfdc_train_part_7             NaN\n",
      "47729        47729  bamubhhzdq.mp4      1  dfdc_train_part_20             NaN\n",
      "68781        68781  diagymsuhz.mp4      1  dfdc_train_part_29             NaN\n",
      "...            ...             ...    ...                 ...             ...\n",
      "70452        70452  bsfaoypybt.mp4      0  dfdc_train_part_30  bnbpburtrc.mp4\n",
      "56089        56089  ylpwhsaqih.mp4      0  dfdc_train_part_24  azjxbjmsie.mp4\n",
      "49344        49344  klsdwqcpme.mp4      0  dfdc_train_part_21  lmzjiqodmv.mp4\n",
      "90622        90622  dejrbttkhl.mp4      0  dfdc_train_part_38  rptgltzwek.mp4\n",
      "58070        58070  uliaqwwhtj.mp4      0  dfdc_train_part_25  qiorirtbxy.mp4\n",
      "\n",
      "[20000 rows x 5 columns]\n"
     ]
    }
   ],
   "source": [
    "print(df)"
   ]
  },
  {
   "cell_type": "code",
   "execution_count": 9,
   "metadata": {},
   "outputs": [],
   "source": [
    "df.to_csv('../preprocessing.csv')"
   ]
  },
  {
   "cell_type": "code",
   "execution_count": 12,
   "metadata": {},
   "outputs": [
    {
     "name": "stdout",
     "output_type": "stream",
     "text": [
      "Unnamed: 0                15059\n",
      "File             xvxhxmbopd.mp4\n",
      "label                         0\n",
      "split         dfdc_train_part_7\n",
      "original         jbpxyyacyj.mp4\n",
      "Name: 15059, dtype: object\n"
     ]
    }
   ],
   "source": [
    "print(df.iloc[18785])"
   ]
  },
  {
   "cell_type": "code",
   "execution_count": 21,
   "metadata": {},
   "outputs": [],
   "source": [
    "\n",
    "import imageio\n",
    "import skvideo\n",
    "import skvideo.io\n",
    "\n",
    "def get_entry(df, idx):\n",
    "    entry = df.iloc[idx]\n",
    "    path = '../deepfake-detection/dfdc_train_all'\n",
    "    filename = '{}/{}/{}'.format(path, entry['split'], entry['File'])\n",
    "    videodata = skvideo.io.vread(filename)\n",
    "    return videodata"
   ]
  },
  {
   "cell_type": "code",
   "execution_count": 26,
   "metadata": {},
   "outputs": [],
   "source": [
    "videodata = get_entry(df, 18786)"
   ]
  },
  {
   "cell_type": "code",
   "execution_count": 27,
   "metadata": {},
   "outputs": [
    {
     "name": "stdout",
     "output_type": "stream",
     "text": [
      "(301, 1920, 1080, 3)\n"
     ]
    }
   ],
   "source": [
    "print(videodata.shape)"
   ]
  },
  {
   "cell_type": "code",
   "execution_count": 28,
   "metadata": {},
   "outputs": [],
   "source": [
    "new_df = df[18785:]"
   ]
  },
  {
   "cell_type": "code",
   "execution_count": 29,
   "metadata": {},
   "outputs": [],
   "source": [
    "new_df.to_csv('../preprocessing_2.csv')"
   ]
  },
  {
   "cell_type": "code",
   "execution_count": null,
   "metadata": {},
   "outputs": [],
   "source": []
  }
 ],
 "metadata": {
  "kernelspec": {
   "display_name": "Python 3",
   "language": "python",
   "name": "python3"
  },
  "language_info": {
   "codemirror_mode": {
    "name": "ipython",
    "version": 3
   },
   "file_extension": ".py",
   "mimetype": "text/x-python",
   "name": "python",
   "nbconvert_exporter": "python",
   "pygments_lexer": "ipython3",
   "version": "3.6.9"
  }
 },
 "nbformat": 4,
 "nbformat_minor": 2
}
